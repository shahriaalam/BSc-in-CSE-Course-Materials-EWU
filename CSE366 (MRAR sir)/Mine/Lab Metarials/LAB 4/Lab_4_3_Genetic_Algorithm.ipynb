{
  "nbformat": 4,
  "nbformat_minor": 0,
  "metadata": {
    "colab": {
      "provenance": []
    },
    "kernelspec": {
      "name": "python3",
      "display_name": "Python 3"
    },
    "language_info": {
      "name": "python"
    }
  },
  "cells": [
    {
      "cell_type": "markdown",
      "source": [
        "# Genetic Algorithm"
      ],
      "metadata": {
        "id": "6BQ0gcgpSFEg"
      }
    },
    {
      "cell_type": "markdown",
      "source": [
        "Genetic Algorithms (GAs) are a class of evolutionary algorithms inspired by the process of natural selection that belong to the larger class of evolutionary algorithms (EA). Genetic algorithms are commonly used to generate high-quality solutions to optimization and search problems by relying on bio-inspired operators such as mutation, crossover, and selection. These algorithms reflect the process of natural selection where the fittest individuals are selected for reproduction to produce offspring of the next generation.\n",
        "\n",
        "**Key Concepts**\n",
        "* Population: A set of candidate solutions to the given problem. Each candidate solution has a set of properties (its chromosomes or genotype) which can be mutated and altered.\n",
        "* Chromosomes: A representation of a candidate solution. Often represented as strings of binary values, but can be represented by other structures depending on the problem domain.\n",
        "* Fitness Function: A function that evaluates and assigns a fitness score to each candidate solution in the population. The fitness score determines how good a solution is.\n",
        "* Selection: The process of choosing the fittest individuals from the population for reproduction. Selection methods include roulette wheel selection, tournament selection, etc.\n",
        "* Crossover (Recombination): A genetic operator used to combine the genetic information of two parents to generate new offspring. It is one way to stochastically generate new solutions from an existing population.\n",
        "* Mutation: A genetic operator that alters one or more gene values in a chromosome from its initial state. This process introduces new genetic structures in the population by changing the chromosomes of the offspring.\n",
        "* Termination: The algorithm terminates when either a maximum number of generations have been produced, or a satisfactory fitness level has been reached for the population."
      ],
      "metadata": {
        "id": "myiCp88USG8s"
      }
    },
    {
      "cell_type": "markdown",
      "source": [
        "![image.png](data:image/png;base64,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)"
      ],
      "metadata": {
        "id": "udbvUbytSSRU"
      }
    },
    {
      "cell_type": "code",
      "execution_count": 2,
      "metadata": {
        "colab": {
          "base_uri": "https://localhost:8080/"
        },
        "id": "cWMiG9cwRq2i",
        "outputId": "55be8c49-b8d8-4e48-9010-fc5b8e3c8ab2"
      },
      "outputs": [
        {
          "output_type": "stream",
          "name": "stdout",
          "text": [
            "Best solution: -32.29433411953704\n",
            "Best solution fitness: 1042.9240162242943\n"
          ]
        }
      ],
      "source": [
        "import numpy as np\n",
        "\n",
        "def fitness(x):\n",
        "    return x ** 2\n",
        "\n",
        "def initialize_population(size, bounds):\n",
        "    return np.random.uniform(bounds[0], bounds[1], size).reshape(size, 1)\n",
        "\n",
        "def select_parents(population, fitnesses, num_parents):\n",
        "    parents = np.zeros((num_parents, 1))\n",
        "    for i in range(num_parents):\n",
        "        max_fitness_idx = np.where(fitnesses == np.max(fitnesses))[0][0]\n",
        "        parents[i, :] = population[max_fitness_idx, :]\n",
        "        fitnesses[max_fitness_idx] = -np.inf  # Use -inf to mark as used\n",
        "    return parents\n",
        "\n",
        "def crossover(parents, offspring_size):\n",
        "    offspring = np.empty(offspring_size)\n",
        "    crossover_point = np.uint8(offspring_size[1] / 2)\n",
        "    for k in range(offspring_size[0]):\n",
        "        parent1_idx = k % parents.shape[0]\n",
        "        parent2_idx = (k + 1) % parents.shape[0]\n",
        "        offspring[k, :crossover_point] = parents[parent1_idx, :crossover_point]\n",
        "        offspring[k, crossover_point:] = parents[parent2_idx, crossover_point:]\n",
        "    return offspring\n",
        "\n",
        "def mutate(offspring_crossover):\n",
        "    for idx in range(offspring_crossover.shape[0]):\n",
        "        random_value = np.random.uniform(-1.0, 1.0, 1)\n",
        "        offspring_crossover[idx, :] += random_value\n",
        "    return offspring_crossover\n",
        "\n",
        "# Genetic algorithm parameters\n",
        "population_size = 10\n",
        "num_generations = 50\n",
        "num_parents_mating = 4\n",
        "bounds = (-10, 10)\n",
        "\n",
        "# Initialization\n",
        "population = initialize_population(population_size, bounds)\n",
        "\n",
        "# Evolution\n",
        "for generation in range(num_generations):\n",
        "    fitnesses = np.array([fitness(ind[0]) for ind in population])\n",
        "    parents = select_parents(population, fitnesses, num_parents_mating)\n",
        "    offspring_crossover = crossover(parents, (population_size - parents.shape[0], 1))\n",
        "    offspring_mutation = mutate(offspring_crossover)\n",
        "    population[:parents.shape[0], :] = parents\n",
        "    population[parents.shape[0]:, :] = offspring_mutation\n",
        "\n",
        "# Results\n",
        "best_solution = population[np.argmax([fitness(ind[0]) for ind in population])]\n",
        "best_solution_fitness = fitness(best_solution[0])\n",
        "print(f\"Best solution: {best_solution[0]}\")\n",
        "print(f\"Best solution fitness: {best_solution_fitness}\")\n"
      ]
    },
    {
      "cell_type": "markdown",
      "source": [
        "# 8 Queen Problem"
      ],
      "metadata": {
        "id": "9VKIeAHGUABi"
      }
    },
    {
      "cell_type": "code",
      "source": [
        "import random\n",
        "\n",
        "def fitness(perm):\n",
        "    # Calculate the number of non-attacking pairs of queens (i.e., number of conflicts)\n",
        "    N = len(perm)\n",
        "    conflicts = 0\n",
        "    for i in range(N):\n",
        "        for j in range(i + 1, N):\n",
        "            if perm[i] == perm[j] or abs(perm[i] - perm[j]) == abs(i - j):\n",
        "                conflicts += 1\n",
        "    return N * (N - 1) // 2 - conflicts\n",
        "\n",
        "def generate_random_permutation(N):\n",
        "    return random.sample(range(N), N)\n",
        "\n",
        "def crossover(parent1, parent2):\n",
        "    N = len(parent1)\n",
        "    crossover_point = random.randint(1, N - 1)\n",
        "    child1 = parent1[:crossover_point] + [x for x in parent2 if x not in parent1[:crossover_point]]\n",
        "    child2 = parent2[:crossover_point] + [x for x in parent1 if x not in parent2[:crossover_point]]\n",
        "    return child1, child2\n",
        "\n",
        "def mutate(perm, mutation_rate):\n",
        "    N = len(perm)\n",
        "    for i in range(N):\n",
        "        if random.random() < mutation_rate:\n",
        "            j = random.randint(0, N - 1)\n",
        "            perm[i], perm[j] = perm[j], perm[i]\n",
        "    return perm\n",
        "\n",
        "def genetic_algorithm(N, population_size, mutation_rate, max_generations):\n",
        "    population = [generate_random_permutation(N) for _ in range(population_size)]\n",
        "\n",
        "    for generation in range(max_generations):\n",
        "        fitness_scores = [fitness(perm) for perm in population]\n",
        "        best_perm = population[fitness_scores.index(max(fitness_scores))]\n",
        "\n",
        "        if max(fitness_scores) == N * (N - 1) // 2:\n",
        "            return best_perm\n",
        "\n",
        "        mating_pool = random.choices(population, weights=fitness_scores, k=population_size)\n",
        "        new_population = []\n",
        "\n",
        "        for _ in range(population_size // 2):\n",
        "            parent1, parent2 = random.sample(mating_pool, 2)\n",
        "            child1, child2 = crossover(parent1, parent2)\n",
        "            child1 = mutate(child1, mutation_rate)\n",
        "            child2 = mutate(child2, mutation_rate)\n",
        "            new_population.extend([child1, child2])\n",
        "\n",
        "        population = new_population\n",
        "\n",
        "    return best_perm\n",
        "\n",
        "def print_board(perm):\n",
        "    N = len(perm)\n",
        "    for row in range(N):\n",
        "        line = ['.'] * N\n",
        "        line[perm[row]] = 'Q'\n",
        "        print(' '.join(line))\n",
        "\n",
        "# Example usage:\n",
        "N = 8\n",
        "population_size = 100\n",
        "mutation_rate = 0.05\n",
        "max_generations = 1000\n",
        "\n",
        "solution = genetic_algorithm(N, population_size, mutation_rate, max_generations)\n",
        "print_board(solution)\n"
      ],
      "metadata": {
        "colab": {
          "base_uri": "https://localhost:8080/"
        },
        "id": "DrUV7vdUSu6a",
        "outputId": "81129085-a1e1-4241-9d3f-d1dd087b98ff"
      },
      "execution_count": 3,
      "outputs": [
        {
          "output_type": "stream",
          "name": "stdout",
          "text": [
            ". . Q . . . . .\n",
            "Q . . . . . . .\n",
            ". . . . . . Q .\n",
            ". . . . Q . . .\n",
            ". . . . . . . Q\n",
            ". Q . . . . . .\n",
            ". . . Q . . . .\n",
            ". . . . . Q . .\n"
          ]
        }
      ]
    },
    {
      "cell_type": "code",
      "source": [],
      "metadata": {
        "id": "oCzrugHvUCXE"
      },
      "execution_count": null,
      "outputs": []
    }
  ]
}